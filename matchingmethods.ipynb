{
  "nbformat": 4,
  "nbformat_minor": 0,
  "metadata": {
    "colab": {
      "provenance": [],
      "toc_visible": true,
      "authorship_tag": "ABX9TyOBVC3Lgy1bW8E1UFyURmeE"
    },
    "kernelspec": {
      "name": "python3",
      "display_name": "Python 3"
    },
    "language_info": {
      "name": "python"
    }
  },
  "cells": [
    {
      "cell_type": "markdown",
      "source": [
        "# Observational Causal Inference Simulation : Using Matching Methods for Cross-Sectional Studies with Binary Treatment"
      ],
      "metadata": {
        "id": "Zu5ntaonem78"
      }
    },
    {
      "cell_type": "markdown",
      "source": [
        "*If you see any errors (or suggestions) below, feel free to let me know!*"
      ],
      "metadata": {
        "id": "su9ZlsGwcD_U"
      }
    },
    {
      "cell_type": "markdown",
      "source": [
        "## Table of Contents\n",
        "\n"
      ],
      "metadata": {
        "id": "bc9s-j2KzXWR"
      }
    },
    {
      "cell_type": "markdown",
      "source": [
        "- Introduction\n",
        "- An industry example\n",
        "- A quick note on identifying potential causal analyses\n",
        "- Load libraries\n",
        "- Simulate the data\n",
        "- Apply Matching\n",
        "- Check Balance\n",
        "- Compute Causal Treatment Effect\n",
        "- Final Notes (what this notebook skipped over)"
      ],
      "metadata": {
        "id": "5kZ0gnGGUZmG"
      }
    },
    {
      "cell_type": "markdown",
      "source": [
        "## Introduction"
      ],
      "metadata": {
        "id": "ySk8VcAxW4zY"
      }
    },
    {
      "cell_type": "markdown",
      "source": [
        "Matching is a popular causal inference method used for (most conventionally) pre-processing your data to balance your covariates (therefore controlling for confounding) as well as reducing model dependence, so that upon matching, a simple difference in means should suffice to compute the causal treatment effect estimate ([Ho et al., 2007](https://gking.harvard.edu/files/matchp.pdf)). As explained in the [MatchIt vignette](https://cran.r-project.org/web/packages/MatchIt/vignettes/MatchIt.html) by Noah Greifer, arguably the best practical R guide on Matching, current best practices involve applying g-computation (a parametric modeling method) to your matched data to control for any remaining imbalance. Because matching reduces model dependence, the parametric method you use post-matching is more reliable and trustable. You can read about model dependence in ([King and Zeng, 2006](https://gking.harvard.edu/files/counterft.pdf)).\n",
        "\n",
        "The most popular form of using matching methods is on cross-sectional data (each user is exposed to one treatment just once in a single point in time) with a binary treatment and binary or continuous outcome (Matching is not limited to these specifications, and appears to be a relatively flexible method). Cross-sectional data is the class of studies that I've encountered the most often at work, and so for the simulation below we will focus on this type of data."
      ],
      "metadata": {
        "id": "TMPkqQilPXqt"
      }
    },
    {
      "cell_type": "markdown",
      "source": [
        "## An industry example"
      ],
      "metadata": {
        "id": "mXlhJ4vaWwwI"
      }
    },
    {
      "cell_type": "markdown",
      "source": [
        "A clear example of a causal question with this kind of specification, from [LinkedIn's Data Science team](https://hdsr.mitpress.mit.edu/pub/wjhth9tr/release/3), is analyzing the causal effect of a job posting having a job title versus not on the outcome, \"view-to-apply rate\". Intuitively, one could imagine a scenario where users may apply more to job postings with a clear job title than a more generic one due to the increased certainty in what the posting asks for. In their scenario, they saw a naive difference of a +10% effect. However, because the treatment is not random (because it's not an A/B test), there is the risk of confounding. For instance, it could be that more prestigious companies have higher view-to-apply to begin with, and it could also be true at the same time that more prestigious companies are more clear with their job postings. They controlled for hundreds of covariates in a 16million row dataset and ended with a causal effect estimate of 2.4%, which is a 74% reduction from the naive estimate.\n",
        "\n",
        "In addition, they performed similar analyses on other attributes of a job posting as well, and used these findings to recommend the product team on how to improve the UI and what changes they could make to increase the experience for their customers."
      ],
      "metadata": {
        "id": "biYsVg57W1eJ"
      }
    },
    {
      "cell_type": "markdown",
      "source": [
        "## A quick note on identifying potential causal analyses"
      ],
      "metadata": {
        "id": "aQ9036K8X7kD"
      }
    },
    {
      "cell_type": "markdown",
      "source": [
        "Personally speaking, I've found that one of the more difficult aspects of these studies in the industry is causal question discovery, or in other words, finding correct questions to apply causal analyses on.\n",
        "\n",
        "Of-course, this depends on a variety of factors, including the data availability in your product function, stakeholder / leadership buy-in for observational causal inference, as well as other important considerations.\n",
        "\n",
        "For example, whenever possible, A/B testing should be the go-to method for making causal claims as it doesn't require the same frustrating untestable assumptions that exist in observational studies. If A/B testing is not possible, one can consider observational studies, but at the same time, the treatment must be actionable - if you find a positive/negative/neutral result, what can be done with it? If your proposed treatment is something that the product team (or any team in the company) have no control over, then other causal questions might be better to prioritize. Of-course, at the end of the day, this all depends on the vision and goals of your product and data science organization, so there certainly may be times where these analyses are valuable, even if not easily actionable.\n",
        "\n",
        "Another consideration is the data. Your product function may possess rich datasets like in the example above where the Data Scientist had 16 million rows to work with, but this won't always be the case, and your results will lack precision (i.e., wider confidence intervals). In addition, if too many of the hypothesized confounders aren't actually measurable given the current tracking system in your company, then it will take more work for your results to be convincing.\n",
        "\n",
        "All-in-all, given all these considerations, the best thing you can do as an analyst is to be transparent and communicate these nuances effectively, on top of making the best (possible) strategic decisions."
      ],
      "metadata": {
        "id": "ONqaJVxBYGRN"
      }
    },
    {
      "cell_type": "markdown",
      "source": [
        "## Load Libraries"
      ],
      "metadata": {
        "id": "OGdTHDAPL9Je"
      }
    },
    {
      "cell_type": "code",
      "source": [
        "# all Python libraries:\n",
        "import numpy as np\n",
        "import matplotlib.pyplot as plt\n",
        "import pandas as pd\n",
        "import seaborn as sns\n",
        "from scipy.special import expit\n",
        "import warnings\n",
        "warnings.filterwarnings('ignore')\n",
        "%matplotlib inline"
      ],
      "metadata": {
        "id": "Nw9wFY6MgIZo"
      },
      "execution_count": 1,
      "outputs": []
    },
    {
      "cell_type": "code",
      "source": [
        "# Load R\n",
        "# Guide here: https://colab.research.google.com/drive/1ISG891i076enSPB-4bni_DECWlFlnasU?usp=sharing\n",
        "%reload_ext rpy2.ipython\n",
        "%config IPCompleter.greedy=True\n",
        "%config InlineBackend.figure_format = 'retina'"
      ],
      "metadata": {
        "id": "whh-cd6KiAyU"
      },
      "execution_count": 2,
      "outputs": []
    },
    {
      "cell_type": "code",
      "source": [
        "%%R\n",
        "#install.packages(\"MatchIt\") # main matching package\n",
        "#install.packages(\"cobalt\") # balance diagnostics\n",
        "#install.packages(\"quickmatch\") # to allow generalized full matching on MatchIt()\n",
        "#install.packages(\"marginaleffects\") # to compute treatment effect"
      ],
      "metadata": {
        "colab": {
          "base_uri": "https://localhost:8080/"
        },
        "id": "foqctRfj7tu_",
        "outputId": "62961b73-219d-48ab-9ee2-ba0d4f3de5cb"
      },
      "execution_count": 4,
      "outputs": [
        {
          "output_type": "stream",
          "name": "stdout",
          "text": [
            "NULL\n"
          ]
        }
      ]
    },
    {
      "cell_type": "code",
      "source": [
        "%%R\n",
        "library(\"MatchIt\")\n",
        "library(\"cobalt\")\n",
        "library(\"marginaleffects\")"
      ],
      "metadata": {
        "id": "l-QWpE_y5tUd"
      },
      "execution_count": 6,
      "outputs": []
    },
    {
      "cell_type": "code",
      "source": [
        "# Change plot settings\n",
        "# Guide here: https://colab.research.google.com/drive/1wqIUyStkKbUc4MYPvJgIExPOFvC5cUs2?usp=sharing\n",
        "plt.rcParams['figure.figsize'] = (3, 3)"
      ],
      "metadata": {
        "id": "1DLc_qcet9b1"
      },
      "execution_count": 7,
      "outputs": []
    },
    {
      "cell_type": "markdown",
      "source": [
        "## Simulate the data"
      ],
      "metadata": {
        "id": "-sBjipJ3b7eo"
      }
    },
    {
      "cell_type": "markdown",
      "source": [
        "Let's simulate some data, using a similar data generation process from ([Iacus, King, and Porro, 2011](https://gking.harvard.edu/sites/scholar.harvard.edu/files/gking/files/political_analysis-2011-iacus-pan_mpr013.pdf)). To keep it simple, we'll have 2 confounders - one binary (categorical) and one non-categorical. We will use a binary treatment setup and a continuous outcome.\n",
        "\n",
        "We'll define the following covariates:\n",
        "- $\\text{age}\\sim\\text{Poisson}(40)$\n",
        "- $\\text{gender}\\sim\\text{Bernoulli}(0.5)$\n",
        "\n",
        "And the treatment:\n",
        "- $\\text{Treatment}\\sim|(\\text{Bernoulli}(\\text{logit}\\{\\frac{1}{40}\\times\\text{age}-0.5\\times\\text{gender}\\})-1)|$\n",
        "\n",
        "And outcome:\n",
        "- $\\text{Outcome}=-1\\times\\text{Treatment}-4\\times\\text{age}-4\\times\\text{gender}+\\epsilon$\n",
        "\n",
        "where:\n",
        "- $\\epsilon\\sim\\text{Normal}(0,1)$\n",
        "\n",
        "This way, our covariates influence both the Treatment and the Outcome."
      ],
      "metadata": {
        "id": "8aArk_wKi7G_"
      }
    },
    {
      "cell_type": "code",
      "source": [
        "# sample size\n",
        "n = 30000\n",
        "\n",
        "# define covariates\n",
        "w1 = np.random.poisson(40,n)\n",
        "w2 = np.random.binomial(1,0.5,n)\n",
        "w2_cat = np.where(w2==1,'Male','Female')\n",
        "\n",
        "# treatment\n",
        "a = np.where(np.random.binomial(1,expit((1/40)*w1-.5*w2),n)==1,0,1)\n",
        "\n",
        "# outcome\n",
        "e = np.random.normal(0,1,n)\n",
        "y = -a-4*w1-4*w2+e\n",
        "\n",
        "# put into a pandas dataframe\n",
        "d = {'y':y, 'a':a, 'age':w1, 'gender':w2_cat}\n",
        "df = pd.DataFrame(data=d)"
      ],
      "metadata": {
        "id": "LB_LgAJei6Ty"
      },
      "execution_count": 27,
      "outputs": []
    },
    {
      "cell_type": "markdown",
      "source": [
        "We see below that when computing the simple difference in means:\n",
        "$$E[Y|A=1] - E[Y|A=0]$$\n",
        "\n",
        "Our coefficient for $\\hat{A}\\approx 2.\\#$, when our true effect is $A=-1$. This is deadily because the true effect is negative, as in the Treatment negatively affects the outcome, but without applying causal methods, we are left with a positive treatment effect."
      ],
      "metadata": {
        "id": "71GI81Z9dl6d"
      }
    },
    {
      "cell_type": "code",
      "source": [
        "%%R -i df\n",
        "\n",
        "print(avg_comparisons(lm(y~a,df), variables = \"a\"))"
      ],
      "metadata": {
        "colab": {
          "base_uri": "https://localhost:8080/"
        },
        "id": "poMVUW2OpFqF",
        "outputId": "f7b56157-f666-4be7-dcdf-f6bc039b424a"
      },
      "execution_count": 28,
      "outputs": [
        {
          "output_type": "stream",
          "name": "stdout",
          "text": [
            "\n",
            " Term Contrast Estimate Std. Error    z Pr(>|z|)    S 2.5 % 97.5 %\n",
            "    a    1 - 0     2.51      0.313 8.01   <0.001 49.6  1.89   3.12\n",
            "\n",
            "Columns: term, contrast, estimate, std.error, statistic, p.value, s.value, conf.low, conf.high \n",
            "Type:  response \n",
            "\n"
          ]
        }
      ]
    },
    {
      "cell_type": "markdown",
      "source": [
        "## Apply Matching"
      ],
      "metadata": {
        "id": "aSYc7636z9W0"
      }
    },
    {
      "cell_type": "markdown",
      "source": [
        "Now, we'll apply matching using the `MatchIt()` package in R. I've looked around but there really is no better guide for this than the following vignettes by Noah Greifer:\n",
        "- https://cran.r-project.org/web/packages/MatchIt/vignettes/MatchIt.html\n",
        "- https://cran.r-project.org/web/packages/MatchIt/vignettes/matching-methods.html\n",
        "- https://cran.r-project.org/web/packages/MatchIt/vignettes/assessing-balance.html\n",
        "- https://cran.r-project.org/web/packages/MatchIt/vignettes/estimating-effects.html\n",
        "\n",
        "One reason is that he provides further readings for almost every topic. A lot of the papers I've read on matching were recommended by him."
      ],
      "metadata": {
        "id": "hnubaOive1IW"
      }
    },
    {
      "cell_type": "markdown",
      "source": [
        "Below, we actually try two different matching specifications, one called Generalized Full Matching and one called Coarsened Exact Matching.\n",
        "\n",
        "You can find a quick overview of matching methods at ([Greifer and Stuart, 2021](https://www.ncbi.nlm.nih.gov/pmc/articles/PMC9005055/)).\n",
        "\n",
        "The `method` parameter is where you specify the method. The `distance` parameter is choosing what distance metric you will use, for matching methods that use a distance measure (For example, in nearest neighbor matching, you match treatment units to units that are closest in control units, and you measure \"closeness\" using the distance measure).\n",
        "\n",
        "I've used mahalanobis distance due to increased hesitancy for using propensity scores (for the purpose of matching). Here is a famous paper about it ([King and Nielsen, 2019](https://gking.harvard.edu/sites/scholar.harvard.edu/files/gking/files/pan1900011_rev.pdf)). I thought that the paper is very friendly, but here's a lecture version by Gary King: [YouTube Link](https://www.youtube.com/watch?v=rBv39pK1iEs). Noah has a good review of the paper as well on [CrossValidated](https://stats.stackexchange.com/questions/481110/propensity-score-matching-what-is-the-problem). On the topic of Gary King, here is another fun lecture where he discusses Matching methods from 3 years ago: [YouTube Link](https://www.youtube.com/watch?v=tvMyjDi4dyg). He heavily advocates for Coarsened Exact Matching or Mahalanobis matching and discusses the Matching Frontier, which he explains is the next step in matching methods advancement. Coarsened Exact Matching can be read about in ([Iacus, King, and Porro, 2011](https://gking.harvard.edu/sites/scholar.harvard.edu/files/gking/files/political_analysis-2011-iacus-pan_mpr013.pdf)). To put it simply, CEM tries to capitalize on the benefits of exact matching while trying to avoid the curse of dimensionality. Here's some criticism though for CEM by [Noah Greifer](https://stats.stackexchange.com/questions/462606/is-coarsened-exact-matching-superior-to-other-matching-methods-in-case-control-s) as well as from a paper that I've (admittedly) only glanced at, ([Black, Lalkiya, and Lerner, 2022](https://papers.ssrn.com/sol3/papers.cfm?abstract_id=3694749)).\n",
        "\n",
        "Remember that there is a \"no free lunch\" theorem too in matching methods, so there's no single method that beats all methods in every situation for every metric you're trying to optimize for. Therefore, all of these methods can be the best for different problems, and their performance can be viewed using the recommended balance assessment methods. So as an example, even though propensity score matching is criticized, if you've shown that in your dataset that it balanced well, effective sample size is good, and your estimand is what you were looking for (and other convincing considerations were made and communicated, and your audience is satisfied), then it's fine.\n",
        "\n",
        "In addition, there are a *lot* of other things you can specify in the matchit algorithm, and I've only included the basics below, so it would be good to look in the vignettes and the recommended readings."
      ],
      "metadata": {
        "id": "uVf3A3J3fjjv"
      }
    },
    {
      "cell_type": "code",
      "source": [
        "%%R -i df\n",
        "# quick matching (generalized full matching)\n",
        "m.out2 <- matchit(a ~ age + gender, data = df,\n",
        "                 method = \"quick\", distance = \"robust_mahalanobis\",estimand='ATE')\n",
        "\n",
        "# coarsened exact matching\n",
        "m.out3 <- matchit(a ~ age + gender, data = df,\n",
        "                 method = \"cem\",estimand='ATE')"
      ],
      "metadata": {
        "id": "jnHhiJ9usjcE"
      },
      "execution_count": 46,
      "outputs": []
    },
    {
      "cell_type": "markdown",
      "source": [
        "Note that while I've put `estimand='ATE'`, not all matching methods that allow that estimand actually guarantee that it will provide the ATE, depending on what kind of samples were dropped. Whether or not you are looking for the ATT, ATC, ATE, or if generalizability isn't the biggest concern, this will impact which matching specification is available for you.\n",
        "\n",
        "Below, we can check the balance performance using the `cobalt` package."
      ],
      "metadata": {
        "id": "dAZjvhZLm45M"
      }
    },
    {
      "cell_type": "markdown",
      "source": [
        "## Check Balance"
      ],
      "metadata": {
        "id": "Db9-S3_z0ATv"
      }
    },
    {
      "cell_type": "code",
      "source": [
        "%%R\n",
        "# Check balance before and after matching\n",
        "cobalt::bal.tab(a ~ age + gender, data = df,\n",
        "        un = TRUE, weights = list(qk = m.out2, cem = m.out3),s.d.denom='pooled')"
      ],
      "metadata": {
        "colab": {
          "base_uri": "https://localhost:8080/"
        },
        "id": "NbDizeRjsjgH",
        "outputId": "5d77ef20-2940-4b1f-8a21-1d3ba8b6baac"
      },
      "execution_count": 31,
      "outputs": [
        {
          "output_type": "stream",
          "name": "stdout",
          "text": [
            "Balance Measures\n",
            "               Type Diff.Un Diff.qk Diff.cem\n",
            "age         Contin. -0.1598 -0.0002  -0.0027\n",
            "gender_Male  Binary  0.1327  0.0000   0.0000\n",
            "\n",
            "Effective sample sizes\n",
            "     Control Treated\n",
            "All 20214.   9786.  \n",
            "qk  19962.65 9228.33\n",
            "cem 19991.35 9322.98\n"
          ]
        }
      ]
    },
    {
      "cell_type": "markdown",
      "source": [
        "We can also see some of the above information in graphical form, which I think is easier on the eyes. The 0.1 treshold is the recommended benchmark in the literature. So, if your covariates are above 0.1 in imbalance, then it would be good to continue trying different specifications. You can read more about these balance diagnostics in ([Austin, 2011](https://www.ncbi.nlm.nih.gov/pmc/articles/PMC3144483/#s11title)). We use \"standardized\" mean differences so that we can somewhat compare them across covariates."
      ],
      "metadata": {
        "id": "7z-y7veDof6p"
      }
    },
    {
      "cell_type": "code",
      "source": [
        "%%R\n",
        "cobalt::love.plot(m.out3,binary = \"std\",\n",
        "                  drop.distance = FALSE,\n",
        "                  thresholds = c(m = .1),\n",
        "                  addl = ~I(age^2)+I(log(age)))"
      ],
      "metadata": {
        "colab": {
          "base_uri": "https://localhost:8080/",
          "height": 497
        },
        "id": "EyCOP6xmsjnp",
        "outputId": "304c1f0d-f1ec-4710-c8df-0f512bcd1119"
      },
      "execution_count": 39,
      "outputs": [
        {
          "output_type": "display_data",
          "data": {
            "image/png": "[encoded data removed]"
          },
          "metadata": {}
        }
      ]
    },
    {
      "cell_type": "markdown",
      "source": [
        "We can also see how each variable matched. There's a ton of other diagnostic charts we can check, and I again encourage the [vignette](https://cran.r-project.org/web/packages/MatchIt/vignettes/assessing-balance.html)."
      ],
      "metadata": {
        "id": "GV3QsuWkpy4c"
      }
    },
    {
      "cell_type": "code",
      "source": [
        "%%R\n",
        "#Density plot for continuous variables\n",
        "cobalt::bal.plot(m.out3, var.name = \"gender\", which = \"both\")"
      ],
      "metadata": {
        "colab": {
          "base_uri": "https://localhost:8080/",
          "height": 497
        },
        "id": "ShOwocfiv1k7",
        "outputId": "09653b0b-27ca-44dd-f885-91239bf41e83"
      },
      "execution_count": 41,
      "outputs": [
        {
          "output_type": "display_data",
          "data": {
            "image/png": "[encoded data removed]"
          },
          "metadata": {}
        }
      ]
    },
    {
      "cell_type": "markdown",
      "source": [
        "Then, we can use the matched data to compute the treatment effect."
      ],
      "metadata": {
        "id": "7Y0fYVxOr7Su"
      }
    },
    {
      "cell_type": "markdown",
      "source": [
        "## Compute Causal Treatment Effect"
      ],
      "metadata": {
        "id": "l852r3FG0CgA"
      }
    },
    {
      "cell_type": "code",
      "source": [
        "%%R\n",
        "m.data <- match.data(m.out3)"
      ],
      "metadata": {
        "id": "SWv_ezxCv1no"
      },
      "execution_count": 42,
      "outputs": []
    },
    {
      "cell_type": "code",
      "source": [
        "%%R\n",
        "fit <- lm(y ~ a * (age + gender), data = m.data, weights = weights)\n",
        "\n",
        "avg_comparisons(fit,\n",
        "                variables = \"a\",\n",
        "                vcov = \"HC3\",\n",
        "                wts = \"weights\")"
      ],
      "metadata": {
        "colab": {
          "base_uri": "https://localhost:8080/"
        },
        "id": "mJy6qX8Qv1qA",
        "outputId": "6b87e593-7e9d-459b-f999-0320f4e00d19"
      },
      "execution_count": 44,
      "outputs": [
        {
          "output_type": "stream",
          "name": "stdout",
          "text": [
            "\n",
            " Term Contrast Estimate Std. Error     z Pr(>|z|)   S 2.5 % 97.5 %\n",
            "    a    1 - 0       -1     0.0126 -79.7   <0.001 Inf -1.03 -0.978\n",
            "\n",
            "Columns: term, contrast, estimate, std.error, statistic, p.value, s.value, conf.low, conf.high \n",
            "Type:  response \n",
            "\n"
          ]
        }
      ]
    },
    {
      "cell_type": "markdown",
      "source": [
        "Note that we include format the `lm()` function as `a * (age + gender)` as recommended, but it isn't strictly necessary (it only helps), and as matching should have reduced model dependence, we can do a simple (weighted) difference in means below and the results should be roughly the same:"
      ],
      "metadata": {
        "id": "kwub1WXfvUnc"
      }
    },
    {
      "cell_type": "code",
      "source": [
        "%%R\n",
        "fit <- lm(y ~ a, data = m.data, weights = weights)\n",
        "\n",
        "avg_comparisons(fit,\n",
        "                variables = \"a\",\n",
        "                vcov = \"HC3\",\n",
        "                wts = \"weights\")"
      ],
      "metadata": {
        "colab": {
          "base_uri": "https://localhost:8080/"
        },
        "id": "RJu1e-N_wQd3",
        "outputId": "3060b3c2-be45-4c51-d0a6-7bc02a901f6d"
      },
      "execution_count": 45,
      "outputs": [
        {
          "output_type": "stream",
          "name": "stdout",
          "text": [
            "\n",
            " Term Contrast Estimate Std. Error     z Pr(>|z|)   S 2.5 % 97.5 %\n",
            "    a    1 - 0   -0.935      0.326 -2.87   0.0041 7.9 -1.57 -0.297\n",
            "\n",
            "Columns: term, contrast, estimate, std.error, statistic, p.value, s.value, conf.low, conf.high \n",
            "Type:  response \n",
            "\n"
          ]
        }
      ]
    },
    {
      "cell_type": "markdown",
      "source": [
        "Note here that the results are almost the same. You'll notice that the confidence intervals are wider though, which is I believe one reason that we we include those interactions. (I'm not super confident about this reasoning/result though, but I have heard that we include the interactions with the covariates to retain the target estimand and ensure valid inference)."
      ],
      "metadata": {
        "id": "69dRsDdowBzK"
      }
    },
    {
      "cell_type": "markdown",
      "source": [
        "## Final notes (what this notebook skipped over)"
      ],
      "metadata": {
        "id": "yTVDNjIow5JD"
      }
    },
    {
      "cell_type": "markdown",
      "source": [
        "You'll notice that in our discussion above, we mostly skipped over the topic that makes observational causal inference so difficult - untestable assumptions. This isn't limited to confounder-control studies like Matching and is true for all causal inference methods. Judea Pearl says that we as practitioners need to \"cope with untestable assumptions\" ([Pearl, 2009](https://ftp.cs.ucla.edu/pub/stat_ser/r350.pdf)), and he has discussed extensively on why observational causal inference is valuable. We also skipped over confounder selection. These will be covered in a different notebook!\n"
      ],
      "metadata": {
        "id": "V1PHwF3fw8mW"
      }
    }
  ]
}