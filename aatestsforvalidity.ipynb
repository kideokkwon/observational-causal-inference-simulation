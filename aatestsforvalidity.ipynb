{
  "nbformat": 4,
  "nbformat_minor": 0,
  "metadata": {
    "colab": {
      "provenance": [],
      "authorship_tag": "ABX9TyMJo9olgOhhLgH8B4aoSxrB"
    },
    "kernelspec": {
      "name": "python3",
      "display_name": "Python 3"
    },
    "language_info": {
      "name": "python"
    }
  },
  "cells": [
    {
      "cell_type": "markdown",
      "source": [
        "# Analyzing A/A Tests and Backwards Causality for Observational Causal Inference Diagnostics"
      ],
      "metadata": {
        "id": "qJpQTMb-EPVh"
      }
    },
    {
      "cell_type": "markdown",
      "source": [
        "## Introduction and Context"
      ],
      "metadata": {
        "id": "1xFaLiE-p5Yz"
      }
    },
    {
      "cell_type": "markdown",
      "source": [
        "Scouring the causal inference text, it is clear that causal inference is difficult due to many reasons but most notably due to the inescapable reality that all observational causal inference relies on *unverifiable* assumptions.\n",
        "\n",
        "The most common way this is demonstrated is that in many methods, the causal inference model requires *conditional exchangeability* (this has a lot of different names), a key assumption in causal identifiability. The intuition behind this assumption is that it requires that you understand the full causal structure of the treatment effect you are analyzing. It assumes that all confounders have been identified and included in the list of covariates to control for. And sadly, there is no way to tell if this was done correctly.\n",
        "\n",
        "In 2019, LinkedIn's Data Science team published a paper ([Bojinov et al., 2019](https://arxiv.org/pdf/1903.07755.pdf)) regarding an application of observational causal inference. They were interested in the causal effect of active engagement on LinkedIn Feed (likes, comments, shares) on subsequent engagement. They utilized a popular panel data method called Fixed Effects as well as more conventional cross-sectional methods such as matching (or weighting) with doubly robust practices. Finally, they compared those results with naive correlation analysis to show how relying on mere correlation can overestimate confidence in the product.\n",
        "\n",
        "However, on section $2.1.3\\text{ Step }3:\\text{Diagnostic tools and sensitivity analysis}$, the paper claims several practical diagnostics to verify whether or not the above assumptions were satisfied.\n",
        "1. *Backwards Causality*: The paper claims that achieving a good balance (e.g., via matching) ensures that the potential outcomes do not contain any information about the treatment assignment. Hence, running a regression for $\\Pr(W_i=1|Y_i,X_i)$ on the balanced set should demonstrate a coefficient for $Y_i$ be close to 0. ($W_i$ is assumed to be the binary treatment)\n",
        "2. *A/A testing*: Typically, the outcome of interest in observational studies is a member level metric which is measured over time. Therefore, there is usually a measure of this before the intervention occured. Using the historical metrics as the primary outcome and applying the chosen analysis method to this outcome should yield a causal estimate of $0$.\n",
        "\n",
        "The goal of this notebook is to explore these methods and see if they really work the way it is claimed in the paper."
      ],
      "metadata": {
        "id": "dpY06dDFEPXz"
      }
    },
    {
      "cell_type": "markdown",
      "source": [
        "## 2. Backwards Causality"
      ],
      "metadata": {
        "id": "pxB8UTowp7xD"
      }
    },
    {
      "cell_type": "markdown",
      "source": [
        "After reading the above section in ([Bojinov et al., 2019](https://arxiv.org/pdf/1903.07755.pdf)), I was a bit perplexed because I had never heard of this diagnostic method before. Googling held no reliable results so I resorted to asking on [CrossValidated](https://stats.stackexchange.com/questions/631005/is-running-pt-1y-x-a-recommended-way-to-help-diagnose-the-unconfoundedness-as). Admittedly, I was a bit conservative in the framing of my question because I acknowledged that while the diagnostic tool didn't sound right to me, I knew that the authors of the paper had a significantly higher level of mastery of causal inference than I did. Of-course, this does not mean that they will always be more correct than someone less familiar, but it means that they will be right *more often*. Due to this framing, it looked based on the first reply (a comment) that I must have not articulated my question well because the reply was completely irrelevant to my question. I added a few more words of context, and a little while later I received an Answer by the user Noah (whose work I have used quite often, including the R packages `MatchIt()` and `WeightIt()`). Noah explained that *Backwards Causality* as described in the above paper is a \"completely invalid method\".\n",
        "\n",
        "He explained that estimating $\\Pr(T|Y,X)$ (Here we are using $T$ as the binary treatment instead of $W$ in the paper) is simply the association between $Y$ and $T$ given $X$, which is exactly the effect we are trying to estimate in the first place. This lines up with my current level of understanding as well - Conditional Expectation is simply an associational measure, and is only endowed with a causal interpretation when it has been identified. We can test this below.\n",
        "\n",
        "First, we'll create our variables\n",
        "- $X_i\\sim\\text{Normal}(0,1)$\n",
        "- $T_i\\sim\\text{Bernoulli}(\\text{logit}(X_i))$\n",
        "- $\\epsilon_i\\sim\\text{Normal}(0,1)$\n",
        "- $Y_i=2T_i+X_i+\\epsilon_i$\n",
        "\n",
        "Notice that $X_i$ is a common cause of both treatment $T_i$ and outcome $Y_i$, making it a confounder. $T_i$ is our binary treatment that is based on $X_i$ and the outcome $Y_i$ shows that the treatment effect is $2$."
      ],
      "metadata": {
        "id": "JgoBvfD9EPaP"
      }
    },
    {
      "cell_type": "code",
      "source": [
        "def sim_data(n=2000):\n",
        "  \"\"\"\n",
        "  Simulate Cross-Sectional Data to Match\n",
        "\n",
        "  Parameters:\n",
        "  - n: Number of Samples\n",
        "\n",
        "  Output:\n",
        "  - Pandas Dataframe\n",
        "  \"\"\"\n",
        "  import pandas as pd\n",
        "  import numpy as np\n",
        "  from scipy.special import expit\n",
        "\n",
        "  #create dataframe with confounder X\n",
        "  p = pd.DataFrame(\n",
        "      {\n",
        "          'x': np.random.normal(0,1,size=n),\n",
        "      }\n",
        "  )\n",
        "\n",
        "  # add treatment and outcome\n",
        "  p['t'] = np.random.binomial(1,expit(p['x']),size=n)\n",
        "  p['y'] = 2*p['t'] + p['x'] + np.random.normal(0,1,size=n)\n",
        "\n",
        "  return p"
      ],
      "metadata": {
        "id": "psDXHNaAQCuu"
      },
      "execution_count": 1,
      "outputs": []
    },
    {
      "cell_type": "code",
      "source": [
        "# Load R\n",
        "# Guide here: https://colab.research.google.com/drive/1ISG891i076enSPB-4bni_DECWlFlnasU?usp=sharing\n",
        "%reload_ext rpy2.ipython\n",
        "%config IPCompleter.greedy=True\n",
        "%config InlineBackend.figure_format = 'retina'"
      ],
      "metadata": {
        "id": "x5QwkHwpRWK_"
      },
      "execution_count": 2,
      "outputs": []
    },
    {
      "cell_type": "code",
      "source": [
        "import warnings\n",
        "warnings.filterwarnings('ignore')"
      ],
      "metadata": {
        "id": "JSvHdnfiUm6m"
      },
      "execution_count": 3,
      "outputs": []
    },
    {
      "cell_type": "code",
      "source": [
        "%%R\n",
        "#install.packages(\"MatchIt\") # main matching package\n",
        "#install.packages(\"marginaleffects\") # to compute treatment effect"
      ],
      "metadata": {
        "colab": {
          "base_uri": "https://localhost:8080/"
        },
        "id": "3rgticziSXI6",
        "outputId": "f8b63bcf-be93-4ea3-bd94-6bf2839ccae1"
      },
      "execution_count": 5,
      "outputs": [
        {
          "output_type": "stream",
          "name": "stdout",
          "text": [
            "NULL\n"
          ]
        }
      ]
    },
    {
      "cell_type": "code",
      "source": [
        "%%R\n",
        "library(\"MatchIt\")\n",
        "library(\"marginaleffects\")"
      ],
      "metadata": {
        "id": "ykFt11M5UPjt"
      },
      "execution_count": 6,
      "outputs": []
    },
    {
      "cell_type": "code",
      "source": [
        "# simulate data\n",
        "df = sim_data()"
      ],
      "metadata": {
        "id": "PEBHEA6ISJdf"
      },
      "execution_count": 27,
      "outputs": []
    },
    {
      "cell_type": "code",
      "source": [
        "%%R -i df\n",
        "avg_comparisons(lm(y~t,df), variables = \"t\")"
      ],
      "metadata": {
        "colab": {
          "base_uri": "https://localhost:8080/"
        },
        "id": "h_yU8ALESH_-",
        "outputId": "706fd87e-c18a-4e94-fab5-1a49decea52c"
      },
      "execution_count": 28,
      "outputs": [
        {
          "output_type": "stream",
          "name": "stdout",
          "text": [
            "\n",
            " Term Contrast Estimate Std. Error    z Pr(>|z|)   S 2.5 % 97.5 %\n",
            "    t    1 - 0     2.89     0.0612 47.2   <0.001 Inf  2.77   3.01\n",
            "\n",
            "Columns: term, contrast, estimate, std.error, statistic, p.value, s.value, conf.low, conf.high \n",
            "Type:  response \n",
            "\n"
          ]
        }
      ]
    },
    {
      "cell_type": "markdown",
      "source": [
        "Notice how when we don't include our confounder, the treatment effect is biased. We can use matching to balance the treatment and control. We'll use `MatchIt()`'s implementation of Generalized Full Matching. Of-course, there are a lot of variations of specifications for matching (I recommend [Greifer and Stuart, 2021](https://www.ncbi.nlm.nih.gov/pmc/articles/PMC9005055/)), but due to the simplicity of our simulation, the exact specification should matter little. I simply just chose one that has the ability to take $\\text{ATE}$ as an estimand. For example, the popular Nearest Neighbor Matching w/ Propensity Score (this is what people usually refer to when they say \"Propensity Score Matching\") can only compute the $\\text{ATT}$ or $\\text{ATC}$."
      ],
      "metadata": {
        "id": "Hwcw-Qtpp9OD"
      }
    },
    {
      "cell_type": "code",
      "source": [
        "%%R\n",
        "# 1:1 NN PS matching w/o replacement\n",
        "m_out <- matchit(t ~ x, data = df, method = \"quick\", distance = \"glm\", estimand='ATE')\n",
        "m_out"
      ],
      "metadata": {
        "colab": {
          "base_uri": "https://localhost:8080/"
        },
        "id": "5OvrGa7QUvFH",
        "outputId": "186cce32-c66b-48b1-ce70-ff8a4060ce2e"
      },
      "execution_count": 45,
      "outputs": [
        {
          "output_type": "stream",
          "name": "stdout",
          "text": [
            "A matchit object\n",
            " - method: Generalized full matching\n",
            " - distance: Propensity score\n",
            "             - estimated with logistic regression\n",
            " - number of obs.: 2000 (original), 2000 (matched)\n",
            " - target estimand: ATE\n",
            " - covariates: x\n"
          ]
        }
      ]
    },
    {
      "cell_type": "code",
      "source": [
        "%%R -o md\n",
        "md <- match.data(m_out)"
      ],
      "metadata": {
        "id": "KGRQvibROV-S"
      },
      "execution_count": 46,
      "outputs": []
    },
    {
      "cell_type": "code",
      "source": [
        "md.head()"
      ],
      "metadata": {
        "colab": {
          "base_uri": "https://localhost:8080/",
          "height": 206
        },
        "id": "wFNO2HQYN2GN",
        "outputId": "9b60952f-2544-476e-e4b0-c514bd77e7a0"
      },
      "execution_count": 47,
      "outputs": [
        {
          "output_type": "execute_result",
          "data": {
            "text/plain": [
              "          x  t         y  distance   weights subclass\n",
              "0  0.222959  1  0.845909  0.564879  1.516500      183\n",
              "1  0.917167  1  0.920097  0.728085  0.758250      240\n",
              "2  0.644831  1  3.987496  0.668393  0.606600      192\n",
              "3  0.114695  1  2.356726  0.536954  0.631875        1\n",
              "4  0.576414  0  1.277647  0.652394  0.989000        2"
            ],
            "text/html": [
              "\n",
              "  <div id=\"df-d81e3dff-2f30-4550-8d28-a23af726cdc3\" class=\"colab-df-container\">\n",
              "    <div>\n",
              "<style scoped>\n",
              "    .dataframe tbody tr th:only-of-type {\n",
              "        vertical-align: middle;\n",
              "    }\n",
              "\n",
              "    .dataframe tbody tr th {\n",
              "        vertical-align: top;\n",
              "    }\n",
              "\n",
              "    .dataframe thead th {\n",
              "        text-align: right;\n",
              "    }\n",
              "</style>\n",
              "<table border=\"1\" class=\"dataframe\">\n",
              "  <thead>\n",
              "    <tr style=\"text-align: right;\">\n",
              "      <th></th>\n",
              "      <th>x</th>\n",
              "      <th>t</th>\n",
              "      <th>y</th>\n",
              "      <th>distance</th>\n",
              "      <th>weights</th>\n",
              "      <th>subclass</th>\n",
              "    </tr>\n",
              "  </thead>\n",
              "  <tbody>\n",
              "    <tr>\n",
              "      <th>0</th>\n",
              "      <td>0.222959</td>\n",
              "      <td>1</td>\n",
              "      <td>0.845909</td>\n",
              "      <td>0.564879</td>\n",
              "      <td>1.516500</td>\n",
              "      <td>183</td>\n",
              "    </tr>\n",
              "    <tr>\n",
              "      <th>1</th>\n",
              "      <td>0.917167</td>\n",
              "      <td>1</td>\n",
              "      <td>0.920097</td>\n",
              "      <td>0.728085</td>\n",
              "      <td>0.758250</td>\n",
              "      <td>240</td>\n",
              "    </tr>\n",
              "    <tr>\n",
              "      <th>2</th>\n",
              "      <td>0.644831</td>\n",
              "      <td>1</td>\n",
              "      <td>3.987496</td>\n",
              "      <td>0.668393</td>\n",
              "      <td>0.606600</td>\n",
              "      <td>192</td>\n",
              "    </tr>\n",
              "    <tr>\n",
              "      <th>3</th>\n",
              "      <td>0.114695</td>\n",
              "      <td>1</td>\n",
              "      <td>2.356726</td>\n",
              "      <td>0.536954</td>\n",
              "      <td>0.631875</td>\n",
              "      <td>1</td>\n",
              "    </tr>\n",
              "    <tr>\n",
              "      <th>4</th>\n",
              "      <td>0.576414</td>\n",
              "      <td>0</td>\n",
              "      <td>1.277647</td>\n",
              "      <td>0.652394</td>\n",
              "      <td>0.989000</td>\n",
              "      <td>2</td>\n",
              "    </tr>\n",
              "  </tbody>\n",
              "</table>\n",
              "</div>\n",
              "    <div class=\"colab-df-buttons\">\n",
              "\n",
              "  <div class=\"colab-df-container\">\n",
              "    <button class=\"colab-df-convert\" onclick=\"convertToInteractive('df-d81e3dff-2f30-4550-8d28-a23af726cdc3')\"\n",
              "            title=\"Convert this dataframe to an interactive table.\"\n",
              "            style=\"display:none;\">\n",
              "\n",
              "  <svg xmlns=\"http://www.w3.org/2000/svg\" height=\"24px\" viewBox=\"0 -960 960 960\">\n",
              "    <path d=\"M120-120v-720h720v720H120Zm60-500h600v-160H180v160Zm220 220h160v-160H400v160Zm0 220h160v-160H400v160ZM180-400h160v-160H180v160Zm440 0h160v-160H620v160ZM180-180h160v-160H180v160Zm440 0h160v-160H620v160Z\"/>\n",
              "  </svg>\n",
              "    </button>\n",
              "\n",
              "  <style>\n",
              "    .colab-df-container {\n",
              "      display:flex;\n",
              "      gap: 12px;\n",
              "    }\n",
              "\n",
              "    .colab-df-convert {\n",
              "      background-color: #E8F0FE;\n",
              "      border: none;\n",
              "      border-radius: 50%;\n",
              "      cursor: pointer;\n",
              "      display: none;\n",
              "      fill: #1967D2;\n",
              "      height: 32px;\n",
              "      padding: 0 0 0 0;\n",
              "      width: 32px;\n",
              "    }\n",
              "\n",
              "    .colab-df-convert:hover {\n",
              "      background-color: #E2EBFA;\n",
              "      box-shadow: 0px 1px 2px rgba(60, 64, 67, 0.3), 0px 1px 3px 1px rgba(60, 64, 67, 0.15);\n",
              "      fill: #174EA6;\n",
              "    }\n",
              "\n",
              "    .colab-df-buttons div {\n",
              "      margin-bottom: 4px;\n",
              "    }\n",
              "\n",
              "    [theme=dark] .colab-df-convert {\n",
              "      background-color: #3B4455;\n",
              "      fill: #D2E3FC;\n",
              "    }\n",
              "\n",
              "    [theme=dark] .colab-df-convert:hover {\n",
              "      background-color: #434B5C;\n",
              "      box-shadow: 0px 1px 3px 1px rgba(0, 0, 0, 0.15);\n",
              "      filter: drop-shadow(0px 1px 2px rgba(0, 0, 0, 0.3));\n",
              "      fill: #FFFFFF;\n",
              "    }\n",
              "  </style>\n",
              "\n",
              "    <script>\n",
              "      const buttonEl =\n",
              "        document.querySelector('#df-d81e3dff-2f30-4550-8d28-a23af726cdc3 button.colab-df-convert');\n",
              "      buttonEl.style.display =\n",
              "        google.colab.kernel.accessAllowed ? 'block' : 'none';\n",
              "\n",
              "      async function convertToInteractive(key) {\n",
              "        const element = document.querySelector('#df-d81e3dff-2f30-4550-8d28-a23af726cdc3');\n",
              "        const dataTable =\n",
              "          await google.colab.kernel.invokeFunction('convertToInteractive',\n",
              "                                                    [key], {});\n",
              "        if (!dataTable) return;\n",
              "\n",
              "        const docLinkHtml = 'Like what you see? Visit the ' +\n",
              "          '<a target=\"_blank\" href=https://colab.research.google.com/notebooks/data_table.ipynb>data table notebook</a>'\n",
              "          + ' to learn more about interactive tables.';\n",
              "        element.innerHTML = '';\n",
              "        dataTable['output_type'] = 'display_data';\n",
              "        await google.colab.output.renderOutput(dataTable, element);\n",
              "        const docLink = document.createElement('div');\n",
              "        docLink.innerHTML = docLinkHtml;\n",
              "        element.appendChild(docLink);\n",
              "      }\n",
              "    </script>\n",
              "  </div>\n",
              "\n",
              "\n",
              "<div id=\"df-49542929-8028-4426-9cfa-39f22bef6a4b\">\n",
              "  <button class=\"colab-df-quickchart\" onclick=\"quickchart('df-49542929-8028-4426-9cfa-39f22bef6a4b')\"\n",
              "            title=\"Suggest charts\"\n",
              "            style=\"display:none;\">\n",
              "\n",
              "<svg xmlns=\"http://www.w3.org/2000/svg\" height=\"24px\"viewBox=\"0 0 24 24\"\n",
              "     width=\"24px\">\n",
              "    <g>\n",
              "        <path d=\"M19 3H5c-1.1 0-2 .9-2 2v14c0 1.1.9 2 2 2h14c1.1 0 2-.9 2-2V5c0-1.1-.9-2-2-2zM9 17H7v-7h2v7zm4 0h-2V7h2v10zm4 0h-2v-4h2v4z\"/>\n",
              "    </g>\n",
              "</svg>\n",
              "  </button>\n",
              "\n",
              "<style>\n",
              "  .colab-df-quickchart {\n",
              "      --bg-color: #E8F0FE;\n",
              "      --fill-color: #1967D2;\n",
              "      --hover-bg-color: #E2EBFA;\n",
              "      --hover-fill-color: #174EA6;\n",
              "      --disabled-fill-color: #AAA;\n",
              "      --disabled-bg-color: #DDD;\n",
              "  }\n",
              "\n",
              "  [theme=dark] .colab-df-quickchart {\n",
              "      --bg-color: #3B4455;\n",
              "      --fill-color: #D2E3FC;\n",
              "      --hover-bg-color: #434B5C;\n",
              "      --hover-fill-color: #FFFFFF;\n",
              "      --disabled-bg-color: #3B4455;\n",
              "      --disabled-fill-color: #666;\n",
              "  }\n",
              "\n",
              "  .colab-df-quickchart {\n",
              "    background-color: var(--bg-color);\n",
              "    border: none;\n",
              "    border-radius: 50%;\n",
              "    cursor: pointer;\n",
              "    display: none;\n",
              "    fill: var(--fill-color);\n",
              "    height: 32px;\n",
              "    padding: 0;\n",
              "    width: 32px;\n",
              "  }\n",
              "\n",
              "  .colab-df-quickchart:hover {\n",
              "    background-color: var(--hover-bg-color);\n",
              "    box-shadow: 0 1px 2px rgba(60, 64, 67, 0.3), 0 1px 3px 1px rgba(60, 64, 67, 0.15);\n",
              "    fill: var(--button-hover-fill-color);\n",
              "  }\n",
              "\n",
              "  .colab-df-quickchart-complete:disabled,\n",
              "  .colab-df-quickchart-complete:disabled:hover {\n",
              "    background-color: var(--disabled-bg-color);\n",
              "    fill: var(--disabled-fill-color);\n",
              "    box-shadow: none;\n",
              "  }\n",
              "\n",
              "  .colab-df-spinner {\n",
              "    border: 2px solid var(--fill-color);\n",
              "    border-color: transparent;\n",
              "    border-bottom-color: var(--fill-color);\n",
              "    animation:\n",
              "      spin 1s steps(1) infinite;\n",
              "  }\n",
              "\n",
              "  @keyframes spin {\n",
              "    0% {\n",
              "      border-color: transparent;\n",
              "      border-bottom-color: var(--fill-color);\n",
              "      border-left-color: var(--fill-color);\n",
              "    }\n",
              "    20% {\n",
              "      border-color: transparent;\n",
              "      border-left-color: var(--fill-color);\n",
              "      border-top-color: var(--fill-color);\n",
              "    }\n",
              "    30% {\n",
              "      border-color: transparent;\n",
              "      border-left-color: var(--fill-color);\n",
              "      border-top-color: var(--fill-color);\n",
              "      border-right-color: var(--fill-color);\n",
              "    }\n",
              "    40% {\n",
              "      border-color: transparent;\n",
              "      border-right-color: var(--fill-color);\n",
              "      border-top-color: var(--fill-color);\n",
              "    }\n",
              "    60% {\n",
              "      border-color: transparent;\n",
              "      border-right-color: var(--fill-color);\n",
              "    }\n",
              "    80% {\n",
              "      border-color: transparent;\n",
              "      border-right-color: var(--fill-color);\n",
              "      border-bottom-color: var(--fill-color);\n",
              "    }\n",
              "    90% {\n",
              "      border-color: transparent;\n",
              "      border-bottom-color: var(--fill-color);\n",
              "    }\n",
              "  }\n",
              "</style>\n",
              "\n",
              "  <script>\n",
              "    async function quickchart(key) {\n",
              "      const quickchartButtonEl =\n",
              "        document.querySelector('#' + key + ' button');\n",
              "      quickchartButtonEl.disabled = true;  // To prevent multiple clicks.\n",
              "      quickchartButtonEl.classList.add('colab-df-spinner');\n",
              "      try {\n",
              "        const charts = await google.colab.kernel.invokeFunction(\n",
              "            'suggestCharts', [key], {});\n",
              "      } catch (error) {\n",
              "        console.error('Error during call to suggestCharts:', error);\n",
              "      }\n",
              "      quickchartButtonEl.classList.remove('colab-df-spinner');\n",
              "      quickchartButtonEl.classList.add('colab-df-quickchart-complete');\n",
              "    }\n",
              "    (() => {\n",
              "      let quickchartButtonEl =\n",
              "        document.querySelector('#df-49542929-8028-4426-9cfa-39f22bef6a4b button');\n",
              "      quickchartButtonEl.style.display =\n",
              "        google.colab.kernel.accessAllowed ? 'block' : 'none';\n",
              "    })();\n",
              "  </script>\n",
              "</div>\n",
              "\n",
              "    </div>\n",
              "  </div>\n"
            ]
          },
          "metadata": {},
          "execution_count": 47
        }
      ]
    },
    {
      "cell_type": "markdown",
      "source": [
        "Now we can compute the treatment effect"
      ],
      "metadata": {
        "id": "z79f0h4cQ30F"
      }
    },
    {
      "cell_type": "code",
      "source": [
        "%%R\n",
        "#Linear model with covariates\n",
        "fit <- lm(y ~ t, data = md, weights = weights)\n",
        "\n",
        "avg_comparisons(fit, variables = \"t\", vcov = ~subclass, wts = \"weights\")"
      ],
      "metadata": {
        "colab": {
          "base_uri": "https://localhost:8080/"
        },
        "id": "5pFPiQP0Q2ZR",
        "outputId": "67b038fe-7aa6-487f-9132-62cf07954159"
      },
      "execution_count": 53,
      "outputs": [
        {
          "output_type": "stream",
          "name": "stdout",
          "text": [
            "\n",
            " Term Contrast Estimate Std. Error    z Pr(>|z|)     S 2.5 % 97.5 %\n",
            "    t    1 - 0     2.02     0.0587 34.4   <0.001 859.9  1.91   2.14\n",
            "\n",
            "Columns: term, contrast, estimate, std.error, statistic, p.value, s.value, conf.low, conf.high \n",
            "Type:  response \n",
            "\n"
          ]
        }
      ]
    },
    {
      "cell_type": "markdown",
      "source": [
        "We see that the treatment effect was sucessfully extracted in the matched dataset. Conventionally we would include our covariate $X_i$ in the post-matching outcome regression to be doubly robust, but we omitted here because it is not strictly necessary and more importantly helps show that matching works instead of attributing the bias adjustment to just a natural outcome of regression."
      ],
      "metadata": {
        "id": "szQVEw-wXNCg"
      }
    },
    {
      "cell_type": "markdown",
      "source": [
        "Now, we can try computing $\\Pr(T|Y,X)$ on the matched dataset. According to the paper, the coefficient estimate of $Y$ should be near $0$.\n",
        "\n"
      ],
      "metadata": {
        "id": "nZgpdiZwRmMc"
      }
    },
    {
      "cell_type": "code",
      "source": [
        "%%R\n",
        "fit2 <- lm(t ~ y + x, data = md, weights = weights)\n",
        "fit2"
      ],
      "metadata": {
        "colab": {
          "base_uri": "https://localhost:8080/"
        },
        "id": "z3fAvACnRedh",
        "outputId": "60ca7ee7-4209-4f7e-de7d-42948bbc420b"
      },
      "execution_count": 55,
      "outputs": [
        {
          "output_type": "stream",
          "name": "stdout",
          "text": [
            "\n",
            "Call:\n",
            "lm(formula = t ~ y + x, data = md, weights = weights)\n",
            "\n",
            "Coefficients:\n",
            "(Intercept)            y            x  \n",
            "     0.2415       0.2502      -0.2584  \n",
            "\n"
          ]
        }
      ]
    },
    {
      "cell_type": "markdown",
      "source": [
        "As matching was performed perfectly and all confounders were controlled for, our environment is going to be the setting in which the proposed method should return a coefficient of near $0$ for. However, we see here is that this is not the case. In fact, the coefficient estimate increases from calculating this in our original (unmatched) dataset, as we see below."
      ],
      "metadata": {
        "id": "d0YhYkBkp9Sl"
      }
    },
    {
      "cell_type": "code",
      "source": [
        "%%R\n",
        "lm(t~y+x, data=df)"
      ],
      "metadata": {
        "colab": {
          "base_uri": "https://localhost:8080/"
        },
        "id": "BEJLq_TYYU5j",
        "outputId": "8d66553d-ef38-41ea-c96f-3a32131f16f1"
      },
      "execution_count": 57,
      "outputs": [
        {
          "output_type": "stream",
          "name": "stdout",
          "text": [
            "\n",
            "Call:\n",
            "lm(formula = t ~ y + x, data = df)\n",
            "\n",
            "Coefficients:\n",
            "(Intercept)            y            x  \n",
            "     0.2711       0.2281      -0.1228  \n",
            "\n"
          ]
        }
      ]
    },
    {
      "cell_type": "markdown",
      "source": [
        "In conclusion, we have shown that as Noah mentioned on CrossValidated, the proposed diagnostic of *Backwards Causality* does not appear to work."
      ],
      "metadata": {
        "id": "fpE3HiMJYv_l"
      }
    },
    {
      "cell_type": "markdown",
      "source": [
        "## 3. A/A tests"
      ],
      "metadata": {
        "id": "31t8wgGdYnsK"
      }
    },
    {
      "cell_type": "markdown",
      "source": [
        "Let's break down the explanation from the paper, sentence by sentence:\n",
        "> *A/A testing*: Typically, the outcome of interest in observational studies is a member level metric which is measured over time. Therefore, there is usually a measure of this before the intervention occured. Using the historical metrics as the primary outcome and applying the chosen analysis method to this outcome should yield a causal estimate of $0$.\n",
        "\n",
        "The first sentence mentions that the outcome in a causal analysis in a product-setting is typically a member-level metric that is measured over time. For example, metrics such as \"return rate\" or \"subsequent engagement\" are all metrics that can be measured over time as it is not a \"happens once\" event like the metric of *mortality* in a more clinical setting.\n",
        "\n",
        "Then, the author remarks how this means that we can capture this metric before the intervention. So for example, if the chosen \"treatment\" is \"engaged with LinkedIn Feed\" and outcome is \"Next Week Engagement Rate\", then you can still measure \"Next Week Engagement Rate\" without the actual treatment.\n",
        "\n",
        "Finally, they claim that we can apply the chosen analysis method on this outcome before the intervention on the same control vs treatment and the model should yield a causal estimate of $0$.\n",
        "\n",
        "Conceptually this makes sense because when we compare Treatment vs Control post-\"intervention\", we're making the assumption that the only difference between the two groups is the intervention. This means that when you compare the outcome before the intervention, which should be computable, the difference between control and treatment should be near 0.\n",
        "\n",
        "Practically speaking, I have a few questions. As we are technically measuring our outcome as \"outcome (engagement) from the past\", does this imply that we should no longer include historical engagement as one of our covariates to control for? In section $4.1$, indeed, Linkedin's data science team utilizes \"*historical engagement*\" as one of the covariates to control for in their study. If they are matching on historical engagement, would this not induce any problems with comparing historical engagement between control and treatment as our diagnostic tool?\n",
        "\n",
        "To make my query more clear, suppose that we only control for 1 covariate, \"historical engagement\". This means that upon performing matching, both control and treatment have similar historical engagement. The proposed diagnostic says that we should compare historical engagement between control and treatment. If we did this, naturally the difference will be near zero, because we had controlled for it!\n",
        "\n",
        "Of-course, if there is any error in my reasoning, please let me know as I am also learning and I am nowhere near an expert in observational causal inference.\n",
        "\n"
      ],
      "metadata": {
        "id": "0eihrSo4Ynue"
      }
    }
  ]
}