{
  "nbformat": 4,
  "nbformat_minor": 0,
  "metadata": {
    "colab": {
      "provenance": [],
      "toc_visible": true,
      "authorship_tag": "ABX9TyPjOvbnGON2B6b4WY2YIV9s"
    },
    "kernelspec": {
      "name": "python3",
      "display_name": "Python 3"
    },
    "language_info": {
      "name": "python"
    }
  },
  "cells": [
    {
      "cell_type": "markdown",
      "source": [
        "# Observational Causal Inference Simulation : Sensitivity Analysis for confounder-control studies"
      ],
      "metadata": {
        "id": "cEND8z4Ghqya"
      }
    },
    {
      "cell_type": "markdown",
      "source": [
        "*If you see any errors (or suggestions) below, feel free to let me know!*"
      ],
      "metadata": {
        "id": "-ED8Ufgyh4bG"
      }
    },
    {
      "cell_type": "markdown",
      "source": [
        "## Table of Contents"
      ],
      "metadata": {
        "id": "nBgj_HwOoUjm"
      }
    },
    {
      "cell_type": "markdown",
      "source": [
        "## Introduction"
      ],
      "metadata": {
        "id": "JLrGoniYoVvK"
      }
    },
    {
      "cell_type": "markdown",
      "source": [
        "When performing observational causal inference, regardless of the method, you will rely on untestable assumptions. However, causal inference is valuable because otherwise we heavily limit our ability to make causal statements (limited to A/B tests and other experimental studies). A lot of important changes that has occured in our society has been due to observational causal inference, such as studying the effect of smoking on lung cancer.\n",
        "\n",
        "Different untestable assumptions exist for different methods. For example, in instrument-based methods, you can't actually \"prove\" that something is an instrument (although in some situations you *can* create natural instruments like through an A/B test, which can make instrument-based methods an attractive part of your causal inference arsenal ([Bojinov, Chen, and Liu, 2020](https://hdsr.mitpress.mit.edu/pub/wjhth9tr/release/3))). For confounder-control methods like Matching, where you have to include all confounders into your model that needs to be controlled for, you can't prove that this was done successfully. In other words, you cannot prove that you have closed all backdoor paths. Instead, you have to reason and have your audience agree that you have controlled for enough variables and that what you have controlled for is sufficient for fulfilling the causal identification assumptions.\n",
        "\n",
        "Sensitivity analyses is a developing field of causal inference that aims to relieve a bit of frustration from these untestable assumptions as it tries to figure out how strong (or how much) the hidden confounding would have to be to change your effect estimate."
      ],
      "metadata": {
        "id": "wXfX1ZlTh4ib"
      }
    },
    {
      "cell_type": "markdown",
      "source": [
        "## The first sensitivity analysis"
      ],
      "metadata": {
        "id": "P4lc_Te1h4lQ"
      }
    },
    {
      "cell_type": "markdown",
      "source": [
        "The first instance of sensitivity analysis in causal inference is attributed to Jerome Cornfield and others in a paper in 1959. This fascinating story is documented in many places, but the place I first encountered it was in Judea Pearl's The [Book of Why](https://www.goodreads.com/en/book/show/36204378).\n",
        "\n",
        "Pearl tells of the tragedy of the famous statistician R.A Fisher, often referred to as the father of modern statistics. He was a heavy smoker and was always critical of all the causal work being done on the effect of Smoking on Lung Cancer. To his credit, it is true that earlier causal methods had more flaws to poke, and there was always that uncertainty that there was a confounder that people were not controlling for. Fisher claimed that Smoking and Lung cancer was a spurious correlation, and that there was a \"smoking gene\" that caused people to smoke more often as well as causing lung cancer more often, therefore you could not conclude that smoking caused cancer.\n",
        "\n",
        "Cornfield and his colleagues published a paper in 1959 that most people consider to have put an end to the multi-year long conversation. Cornfield showed that for there to be this gene that completely explains away the correlation between smoking and cancer, the gene would have to be 9x more prevelant in smokers than non-smokers. Upon hearing that, most biologists of that time found that to be ludicrous. A few years later, the US Surgeon General made a definitive causal statement to the public regarding the effect of Smoking on Cancer, and since then, smoking has been on a sharp decline."
      ],
      "metadata": {
        "id": "ZD7T_jaSa--F"
      }
    },
    {
      "cell_type": "markdown",
      "source": [
        "## A quick overview of sensitivity analyses that will be covered in this notebook"
      ],
      "metadata": {
        "id": "q2VHGlwqh4nv"
      }
    },
    {
      "cell_type": "markdown",
      "source": [
        "In the original sensitivity analysis by Cornfield et al., they made the following assumptions or limitations ([Ding and VanderWeele, 2016](https://www.ncbi.nlm.nih.gov/pmc/articles/PMC4820664/)):\n",
        "1. there is a single binary unmeasured confounder\n",
        "2. no interaction between the effects of the exposure and the outcome\n",
        "3. tests for null hypothesis of no causal effect\n",
        "\n",
        "Since then, there have been several new methods for increased flexibility. Some methods try to simplify the process more, some try to relax more assumptions, and some try to improve the interpretability. We'll be looking at papers that include scholars such as Rosenbaum, Cinelli, Hazlett, and McGowan, but there are many many more that is not covered here.\n",
        "\n",
        "\n"
      ],
      "metadata": {
        "id": "TAxj0j5sMefd"
      }
    },
    {
      "cell_type": "markdown",
      "source": [
        "## A brief note on confounder selection"
      ],
      "metadata": {
        "id": "8firRphdiCJk"
      }
    },
    {
      "cell_type": "markdown",
      "source": [
        "It only makes sense to discuss briefly on how confounder selection is performed before discussing evaluating those choices (via sensitivity analysis).\n",
        "\n",
        "You'll notice that when reading causal inference papers throughout the years, the message on confounder selection can feel a bit conflicting.\n",
        "\n",
        "For instance, in *Why Propensity Scores Should Not Be Used for matching* ([King and Nielsen, 2019](https://gking.harvard.edu/sites/scholar.harvard.edu/files/gking/files/pan1900011_rev.pdf)), it claims that a reasonble way to satisfy the ignorability assumption is to include in $X$ any variable known to affect either $Y$ or $T$ (the treatment variable), since \"*if any subset of these variables satisfies unconfoundedness, this set will too*\" and references *A New Criterion for Confounder Selection* ([VanderWeele and Shpitser, 2011](https://www.ncbi.nlm.nih.gov/pmc/articles/PMC3166439/)).\n",
        "\n",
        "One can also find in some text that recommend that you should control for as many variables (pre-treatment) as possible, because measured confounders may be correlated with a lot of unmeasured confounders, thus indirectly controlling for them.\n",
        "\n",
        "On the other hand, proponents of Causal Graphs such as Judea Pearl have noted (in various places, including in his [\"The Book of Why\"](https://en.wikipedia.org/wiki/The_Book_of_Why)) that this can lead to biased estimates because controlling for certain variables can actually corrupt your estimates, in what he calls an $M$-bias.\n",
        "\n",
        "In a more recent work by VanderWeele, *Principles of Confounder Selection* ([VanderWeele, 2019](https://www.ncbi.nlm.nih.gov/pmc/articles/PMC6447501/)), it is recommended that when looking for confounders, we use the following guidelines:\n",
        "1. Control for which covariate that is a cause of the exposure, or of the outcome, or both\n",
        "2. Exclude from this set any variable known to be an instrumental variable\n",
        "3. Include as a covariate any proxy for an unmeasured variable that is a common cause of both the exposure and the outcome\n",
        "\n",
        "The guidelines so far in the text above just seem like \"guidelines\", and one may wonder, are there any statistical methods, such as with feature selection methods in predictive modeling?\n",
        "\n",
        "In the same paper, VanderWeele discusses that while there are statistical methods for confounder selection, it is limiting as it often relys on strong assumptions and that it is inadequate when only relying on statistical methods as statistics can have a difficult time assessing temporal order of variables.\n",
        "\n",
        "In other words, data-driven approaches do not obviate the need for substantive knowledge in confounder selection decisions, even though they are sometimes presented as stand-alone alternatives. Some examples of statistical methods include backward and forward selection, change-in-estimate, high dimensional propensity scores, targeted maximum likelihood estimation, etc."
      ],
      "metadata": {
        "id": "lQYdG0w3QeFj"
      }
    },
    {
      "cell_type": "markdown",
      "source": [
        "## Rosenbaum's methods (2005)"
      ],
      "metadata": {
        "id": "sYe8tCWeiCL_"
      }
    },
    {
      "cell_type": "markdown",
      "source": [
        "[Rosenbaum, 2005](http://www-stat.wharton.upenn.edu/~rosenbap/BehStatSen.pdf) demonstrates some practical examples of sensitivity analysis for causal inference in observational studies. More specifically, he provides an example that directly extends Cornfield's work from 1959. He explains that Cornfield et al. had relied on a sensitivity analysis that utilized some assumptions such as binary response. In addition, Cornfield ignored sampling variability, which is a crucial aspect of inference. Perhaps the reason he was able to avoid it is because his results were so strong that it seemed unlikely to all that it could be explained by chance. In Rosenbaum's text linked above, he utilizes $p$-values and gives an example of sensitivity analysis with continuous outcomes (ofcourse, sensitivity analysis that uses binary outcomes and $p$-values exist, but he does not cover it in this specific article). In addition, he claims that this test is highly suitable for matched data, which may not be true for all sensitivity analysis methods.\n",
        "\n",
        "Rosenbaum's sensitivity analysis imagines that in the population before matching, subjects are assigned to treatment or control independently with unknown probabilities. Specifically, two subjects who look the same at baseline before treatment (i.e., two subjects with the same observed covariates) may differ in terms of unobserved covariates, so that one subject has an odds of treatment that is up to $\\Gamma\\geq 1$ times greater than the odds for another subject. In a randomized experiment, everyone has $\\Gamma=1$. The sensitivity analysis asks *how much hidden bias can be present - that is, how large can $\\Gamma$ be, before the qualitative conclusions of the study begin to change*.\n",
        "\n",
        "The larger the $\\Gamma$ needs to be to change the study's conclusion, the more insensitive the results are to unobserved confounders.\n",
        "\n",
        "For each value of $\\Gamma>1$, we compute an interval of $p$-values to see how big $\\Gamma$ would had to have been for us to have not rejected the null hypothesis.\n",
        "\n",
        "For his example of continuous outcomes, he relies on Wilcoxon's Signed Rank test.\n",
        "\n"
      ],
      "metadata": {
        "id": "lR8pbA0qV44P"
      }
    },
    {
      "cell_type": "markdown",
      "source": [
        "The strength of this method is that it is easy to compute (with Rosenbaum's R package, anyway) and $\\Gamma$ makes sense intuitively. However, there is no benchmark for what $\\Gamma$ value is acceptable as it depends on the causal analysis being performed. For example, if someone said that their $\\Gamma = 3$, how does one respond? Thus, the usefulness of this sensitivity analysis can be contested.\n",
        "\n",
        "In addition, in other papers, it clarifies the exact assumptions that this method uses which may make the anlaysis not feel as strong.\n",
        "\n",
        "This method can be implemented in several packages, with one being in the package [rbounds](https://cran.r-project.org/web/packages/rbounds/rbounds.pdf). This package appears to include quite a number of methods, including:\n",
        "- methods for binary outcome (using Fisher's exact test)\n",
        "- methods suited for IV methods (causal inference methods that utilize instrumental variables, as opposed to, for instance, matched pairs)\n",
        "- methods that calculate new point estimates\n",
        "- etc.,\n",
        "\n",
        "Another note - while I'm not able to make this claim confidently, one caveat of this older test seems to be that the wilcoxon sign rank test doesn't actually test for the average treatment effect, instead, it measures if observations in treatment tend to be lower or greater. This may be why in Rosenbaum's future work, he uses the permutational $t$-test."
      ],
      "metadata": {
        "id": "RLIoJ43sVycS"
      }
    },
    {
      "cell_type": "markdown",
      "source": [
        "## Rosenbaum's methods (2015)"
      ],
      "metadata": {
        "id": "Mqh6gw6pVyey"
      }
    },
    {
      "cell_type": "markdown",
      "source": [
        "We will now briefly review Rosenbaum's [vignette](http://www-stat.wharton.upenn.edu/~rosenbap/packpaper.pdf) for sensitivity analysis and will include notes and key quotes from the vignette. This is also the only section of this notebook that will have *math*. I skipped it for other sections but thought it would be good to have it for at least one.\n",
        "\n",
        "There appears to be two similar packages at play:\n",
        "- `sensitivitymw`: faster, but limited to 1:1 matched pairs or matched sets with 1 treated and a fixed number, $K\\geq2$, of controls (meaning that every treated unit needs to match with exactly $K$ controls).\n",
        "- `sensitivitymv`: for matched sets with variable number of controls\n",
        "\n",
        "In addition, the package offers conventional statistics, such as the permutational $t$-test and $M$-statistics using Huber's weights, but also higher power test statistics that are less familiar.\n",
        "\n",
        "In an observational study, treated and control subjects may be matched to be similar in terms of observed or measured covariates, but people who look similar in terms of measured covariates may still differ in terms of unmeasured covariates. The packages perform a sensitivity analysis asking about the magnitude of bias from nonrandom treatment assignment that would need to be present to alter the qualitative conclusions of a naive analysis that presumes matching for observed covariates removes all bias.\n",
        "\n",
        "We'll cover the math for just the first part of his article, regarding using permutational $t$-tests for matched pairs. He gives similar examples of other tests that are less well-known, although he doesn't strictly give guidelines on when to use which."
      ],
      "metadata": {
        "id": "2LwcXsdrWxVL"
      }
    },
    {
      "cell_type": "markdown",
      "source": [
        "### permutational $t$-test for matched pairs"
      ],
      "metadata": {
        "id": "T-lbclKMWxX2"
      }
    },
    {
      "cell_type": "markdown",
      "source": [
        "First, a quick review of permutational $t$-tests:\n",
        "\n",
        "A permutation test is a nonparametric test, and thus a statistical test that doesn't make assumptions about the distribution of the data. It is useful when the usual assumptions of a t-test wouldn't be met. But like the $t$-test, it is a comparison of means.\n",
        "\n",
        "Now, back to Rosenbaum's article..."
      ],
      "metadata": {
        "id": "osyLOgxsWxaX"
      }
    },
    {
      "cell_type": "markdown",
      "source": [
        "**Some Notation**:\n",
        "- $I$ matched sets: $i=1,...,I$\n",
        "- $n_i$ subjects in each set $i$: $j=1,...,n_i$ (in treatment-control pairs, $n_i=2$ because two subjects per set, while $n_i=K+1$ for matching every treated subject to $K$ controls.\n",
        "\n",
        "So, the statement $n_1 = 2$ means that for the 1st matched set, there are 2 subjects.\n",
        "\n",
        "- one subject in each set is treated, $Z_{ij}=1$\n",
        "- the others are untreated controls, $Z_{ij}=0$\n",
        "\n",
        "Thus, $1=\\sum_{i=1}^{n_i}Z_{ij}$ for each matched set $i$, because we're assuming here that we match 1 treated with any number of applicable controls. This is typically the popular convention in a lot of literature because in many studies, especially in epidemiology, it's always very few treatment and a large number of control, and the ATT is typically the estimand of interest.\n",
        "\n",
        "The $j$th subject in set $i$ would exhibit response value $r_{T_{ij}}$ if assigned to treatment with $Z_{ij}=1$ or response $r_{C_{ij}}$ if assigned to control with $Z_{ij}=0$, so each subject actually exhibits response $R_{ij}=Z_{ij}r_{T_{ij}}+(1-Z_{ij})r_{C_{ij}}$ and ofcourse the effect of treatment on an *individual* subject, namely $r_{T_{ij}}-r_{C_{ij}}$, is not observed, due to the *fundamental problem of causal inference*.\n",
        "\n",
        "Fisher's (1935) null hypothesis $H_0$ of no treatment effect asserts that $r_{T_{ij}}=r_{C_{ij}}$ for all $i,j$.\n",
        "\n",
        "The treatment has additive shift (i.e., constant effect) if $r_{T_{ij}}-r_{C_{ij}}=\\tau$ for all $i,j$. It is a constant effect as the value of $\\tau$ is true for all $i,j$."
      ],
      "metadata": {
        "id": "4QB4ClsmXkPb"
      }
    },
    {
      "cell_type": "markdown",
      "source": [
        "First, let's work with the case of $n_i=2$ for all $i$.\n",
        "\n",
        "The treated-minus-control pair difference in outcomes is:\n",
        "$$Y_i=(Z_{i1}-Z_{i2})(R_{i1}-R_{i2})$$\n",
        "\n",
        "Since the sum of all $Z$'s for each set $i$ is 1, the above is just equivalent to the difference between person 1 and person 2 in each pair, which we can see below.\n",
        "\n",
        "\n",
        "\n",
        "If the treatment has an additive effect $\\tau$, then $Y_i=\\tau+\\epsilon_i$, where:\n",
        "$$\\epsilon_i=(Z_{i1}-Z_{i2})(r_{C_{i1}}-r_{C_{i2}})=\\pm|r_{C_{i1}}-r_{C_{i2}}|$$\n",
        "\n",
        "The reason why isn't not just $Y_i = \\tau$ is because even within each group, you will have differences since not everyone is the same. That explains $\\epsilon_i=\\pm|r_{C_{i1}}-r_{C_{i2}}|$, which is what the difference would be if both persons in each pair were exposed to Control. This would show what the difference is outside of the treatment effect.\n",
        "\n",
        "Therefore, under Fisher's null hypothesis $H_0$, of no effect, the pair difference is $Y_i=\\epsilon_i$.\n",
        "\n",
        "In a randomized experiment (as opposed to an observational study like ours), the permutational $t$-test is the randomization test that uses as its test statistic either the:\n",
        "- the total, $T=\\sum_{i=1}^{I}Y_i$\n",
        "- the mean, $T=\\frac{1}{I}\\sum_{i=1}^{I}Y_i$\n",
        "\n",
        "(remember that $I$ is the number of pairs.)\n",
        "\n",
        "These two statistics give the same permutational $p$-value. The permutation distribution of the mean, or the permutational $t$-test, is of historical and conceptual importance, in part because, in a randomized experiment, the expectation of $T=\\frac{1}{I}\\sum_{i=1}^{I}Y_i$ is the average treatment effect, $E(T)=\\frac{1}{2I}\\sum_{i=1}^{I}\\sum_{j=1}^{2}(r_{T_{ij}}-r_{C_{ij}})$\n"
      ],
      "metadata": {
        "id": "BOKfqNM0Xmy8"
      }
    },
    {
      "cell_type": "markdown",
      "source": [
        "### an example"
      ],
      "metadata": {
        "id": "qkyzgl01VyhZ"
      }
    },
    {
      "cell_type": "markdown",
      "source": [
        "The example from the paper works with a small sample size of 39 (pairs). It is data regarding welders and their exposure to chromium and nickel (the \"exposure\") and the outcome is DNA damage, a continuous variable. Confounders matched for were age and smoking habits.\n",
        "\n",
        "In a null hypothesis of of no treatment effect, Rosenbaum shows that the permutational $t$-test gave a one-sided $p$-value of $2.048\\times10^{-5}$. This was computed using the unadjusted bias value of $\\Gamma=1$, using the same concept as from Rosenbaum, 2005.\n",
        "\n",
        "The $p$-value exceeds $\\alpha=0.05$ at around $\\Gamma=4$. Thus, \"*$p$-values well below and slightly above the conventional $0.05$ level are possible under $H_0$ if the bias could be as large as $\\Gamma = 4$*\". In other words, rejection of $H_0$ is sensitive to unmeasured biases of magnitude $\\Gamma=4$.\n",
        "\n",
        "The code is straightforward:\n",
        "\n",
        "```R\n",
        ">library(\"sensitivity\")\n",
        ">data(erpcp)\n",
        "# Computes p-value at Gamma = 1\n",
        ">senw(erpcp,gamma=1,method=\"t\")$pval\n",
        "# Computes p-value at Gamma = 4\n",
        ">senw(erpcp,gamma=4,method=\"t\")$pval\n",
        "```\n",
        "\n",
        "Instead of the $p$-values, you can also compute the confidence interval of the point estimate (treatment effect estimate) instead:\n",
        "```R\n",
        ">senmwCI(erpcp, gamma=1, method=\"t\", one.sided=TRUE)\n",
        "$PointEstimate\n",
        "minimum maximum\n",
        "0.5739   0.5739\n",
        "$Confidence.Interval\n",
        "minimum maximum\n",
        "0.394    Inf\n",
        "```\n",
        "\n",
        "This returns the min and max of the point estimate based on $\\Gamma$ (in the above, the min and max is the same because $\\Gamma=1$, thus equivalent to `mean(erpcp$welder-erpcp$control)`.\n",
        "\n",
        "The default is a 0.05-level for the one-sided confidence interval, thus explaining the confidence interval values.\n",
        "\n",
        "When using $\\Gamma=2$, the following result shows:\n",
        "```R\n",
        "> senmwCI(erpcp, gamma = 2, method = “t”, one.sided = TRUE)\n",
        "$PointEstimate\n",
        "minimum maximum\n",
        "0.4167 0.7487\n",
        "$Confidence.Interval\n",
        "minimum maximum\n",
        "0.2081 Inf\n",
        "```\n",
        "\n",
        "This implies , if there existed an unmeasured biases of magnitude $\\Gamma=2$, we would have still rejected the null hypothesis."
      ],
      "metadata": {
        "id": "np1-5jXqX1bH"
      }
    },
    {
      "cell_type": "markdown",
      "source": [
        "### Amplification: an aid to interpreting $\\Gamma$"
      ],
      "metadata": {
        "id": "M2JKfKDQYGTD"
      }
    },
    {
      "cell_type": "markdown",
      "source": [
        "Recall that the interpretation of $\\Gamma$ has been that sensitivity analysis reports the range of possible inferences when an unobserved bias alters the *odds of treatment* by a factor of at most $\\Gamma$, and the extremes of that range are produced by a bias strongly related to the outcome.\n",
        "\n",
        "An amplification interprets the single parameter $\\Gamma$ in terms of two parameters:\n",
        "- $\\Lambda$: controlling the relationship between the unobserved bias and *treatment assignment* $Z_{ij}$.\n",
        "- $\\Delta$: controlling the relationship between the unobserved bias and the *outcome* $Y_i$.\n",
        "\n",
        "A bias of $\\Gamma$ is equivalent to the curve defined by:\n",
        "\n",
        "$$\\Gamma=\\frac{(\\Lambda\\Delta+1)}{(\\Lambda+\\Delta)}$$\n",
        "\n",
        "This means that one can calculate and report using one parameter $\\Gamma$ but have available the equivalent interpretations involving two parameters $(\\Lambda,\\Delta)$.\n",
        "\n",
        "The code:\n",
        "```r\n",
        "> library(sensitivitymv)\n",
        "> amplify(3, c(4 : 7))\n",
        "  4     5    6   7\n",
        "11.00 7.00 5.67 5.00\n",
        "```\n",
        "\n",
        "The code is taking a scalar $\\Gamma>1$ (in this case, $\\Gamma=3$) and a vector of $\\Lambda$'s and computes the corresponding vector of $\\Delta$'s. As an example, this says that a $\\Gamma=3$ is equivalent to $(\\Lambda,\\Delta)=(7,5)$\n",
        "\n",
        "Another note, as one of $\\Delta$ or $\\Lambda$ approach infinity, the other approaches $\\Gamma$. So essentially, what this means is that previously, we were noting the bias on how the unobserved confounder affects treatment. By doing so, we had just assumed that the effect the unobserved confounder can have on the outcome is infinite, so we were thinking of the worst case scenario, to be conservative (and careful) with our sensitivity analysis."
      ],
      "metadata": {
        "id": "3tY7VI2zX1hz"
      }
    },
    {
      "cell_type": "markdown",
      "source": [
        "## McGowan, 2022"
      ],
      "metadata": {
        "id": "KRtwGHEs8cvz"
      }
    },
    {
      "cell_type": "markdown",
      "source": [
        "The following text covers a bit from ([McGowan, 2022](https://link.springer.com/article/10.1007/s40471-022-00308-6)).\n",
        "\n",
        "McGowan's paper linked above looks like it's intended to be a comprehensive review of the existing sensitivity analysis methods. Thus, she covers a bit of many different contributors, including one we'll cover later, by Cinelli and Hazlett.\n",
        "\n",
        "She covers 3 different types of sensitivity analysis.\n",
        "1. We know a bit about the hidden confounder$\\rightarrow$treatment effect\n",
        "2. We know a bit about the hidden confounder$\\rightarrow$outcome effect\n",
        "3. We know nothing about the hidden confounder, if there are any\n",
        "\n",
        "I'll cover the 3rd one because I believe that's the most common (or at least it has been for me in the workplace). Below we'll talk about \"tipping point\" analysis, which is stating how strong the confounder would have to be to change our estimate, using inputs and outputs that are familiar. This is actually pretty similiar intuitively to Rosenbaum's work. But this time we'll have our own data.\n",
        "\n",
        "These are available in her `tipr` package. Some examples are here: ([Github link](https://github.com/r-causal/tipr))\n",
        "\n",
        "First, let's simulate some data:"
      ],
      "metadata": {
        "id": "eAXmJ_v88f5r"
      }
    },
    {
      "cell_type": "markdown",
      "source": [
        "### Load Libraries"
      ],
      "metadata": {
        "id": "5S56Q0k2-28m"
      }
    },
    {
      "cell_type": "code",
      "source": [
        "# all Python libraries:\n",
        "import numpy as np\n",
        "import matplotlib.pyplot as plt\n",
        "import pandas as pd\n",
        "import seaborn as sns\n",
        "from scipy.special import expit\n",
        "import warnings\n",
        "warnings.filterwarnings('ignore')\n",
        "%matplotlib inline"
      ],
      "metadata": {
        "id": "jxktNhDv-2EI"
      },
      "execution_count": 2,
      "outputs": []
    },
    {
      "cell_type": "code",
      "source": [
        "# Load R\n",
        "# Guide here: https://colab.research.google.com/drive/1ISG891i076enSPB-4bni_DECWlFlnasU?usp=sharing\n",
        "%reload_ext rpy2.ipython\n",
        "%config IPCompleter.greedy=True\n",
        "%config InlineBackend.figure_format = 'retina'"
      ],
      "metadata": {
        "id": "mciqs1rX-6ds"
      },
      "execution_count": 3,
      "outputs": []
    },
    {
      "cell_type": "code",
      "source": [
        "%%R\n",
        "#install.packages(\"tipr\")\n",
        "#install.packages(\"sensemakr\")"
      ],
      "metadata": {
        "colab": {
          "base_uri": "https://localhost:8080/"
        },
        "id": "F55D7nJj-9tT",
        "outputId": "0949cdd7-493b-414e-e225-07821d5d9972"
      },
      "execution_count": 5,
      "outputs": [
        {
          "output_type": "stream",
          "name": "stdout",
          "text": [
            "NULL\n"
          ]
        }
      ]
    },
    {
      "cell_type": "code",
      "source": [
        "%%R\n",
        "library('tipr')\n",
        "library('sensemakr')"
      ],
      "metadata": {
        "id": "zU_pEaiP_Jd4"
      },
      "execution_count": 8,
      "outputs": []
    },
    {
      "cell_type": "markdown",
      "source": [
        "### Simulate some data"
      ],
      "metadata": {
        "id": "DQ3nhILk_WFI"
      }
    },
    {
      "cell_type": "code",
      "source": [
        "# sample size\n",
        "n = 30000\n",
        "\n",
        "# define covariates\n",
        "w1 = np.random.normal(0,1,n)\n",
        "w2 = np.random.normal(0,1,n)\n",
        "\n",
        "# treatment\n",
        "a = np.random.binomial(1,expit((w1+w2)/2),n)\n",
        "\n",
        "# outcome\n",
        "e = np.random.normal(0,1,n)\n",
        "y = -2*a+10*w1+10*w2+e\n",
        "\n",
        "# put into a pandas dataframe\n",
        "d = {'y':y, 'a':a, 'w1':w1, 'w2':w2}\n",
        "df = pd.DataFrame(data=d)"
      ],
      "metadata": {
        "id": "2NvRwcxT-pq9"
      },
      "execution_count": 103,
      "outputs": []
    },
    {
      "cell_type": "markdown",
      "source": [
        "### apply tipping point analysis"
      ],
      "metadata": {
        "id": "mtX3hk5wNIND"
      }
    },
    {
      "cell_type": "code",
      "source": [
        "%%R -i df\n",
        "summary(lm(y~a+w1,data=df))$coef"
      ],
      "metadata": {
        "colab": {
          "base_uri": "https://localhost:8080/"
        },
        "id": "yF8xWgx2-uXT",
        "outputId": "09147751-f4dc-4274-faf3-78d7ebff1365"
      },
      "execution_count": 104,
      "outputs": [
        {
          "output_type": "stream",
          "name": "stdout",
          "text": [
            "             Estimate Std. Error   t value      Pr(>|t|)\n",
            "(Intercept) -2.432077 0.08065895 -30.15260 8.622032e-197\n",
            "a            2.815317 0.11530461  24.41634 2.154722e-130\n",
            "w1           9.503464 0.05737686 165.63235  0.000000e+00\n"
          ]
        }
      ]
    },
    {
      "cell_type": "markdown",
      "source": [
        "Note here that the actual effect is $-2$, but when you don't include both confounders and only include one of them, the treatment effect is $2.\\#$. Let's continue and pretend that $w_2$ is an unobserved (hidden) confounder.\n",
        "\n",
        "To check if there is an unmeasured confounder (continuous in this case), let's first look at the mean of the unmeasured confounder in each group.\n",
        "\n",
        "I think the tipping analysis demands a \"scaled mean difference\", but we don't have to do that in our simulation because all our confounders are normally distributed around mean 0 and variance 1 to make our analysis easier."
      ],
      "metadata": {
        "id": "VPXCyqcN9zO7"
      }
    },
    {
      "cell_type": "code",
      "source": [
        "print('mean in treated:', df[df.a==1]['w2'].mean())\n",
        "print('mean in control:', df[df.a==0]['w2'].mean())\n",
        "print('difference:',df[df.a==1]['w2'].mean() - df[df.a==0]['w2'].mean())"
      ],
      "metadata": {
        "colab": {
          "base_uri": "https://localhost:8080/"
        },
        "id": "DqejwI6TGjKw",
        "outputId": "506f922f-4e41-45ee-a984-d89ad7092e29"
      },
      "execution_count": 105,
      "outputs": [
        {
          "output_type": "stream",
          "name": "stdout",
          "text": [
            "mean in treated: 0.22775183693308385\n",
            "mean in control: -0.2305914312336023\n",
            "difference: 0.45834326816668614\n"
          ]
        }
      ]
    },
    {
      "cell_type": "code",
      "source": [
        "%%R\n",
        "tip(effect_observed = 2.5, exposure_confounder_effect = 0.45)"
      ],
      "metadata": {
        "colab": {
          "base_uri": "https://localhost:8080/"
        },
        "id": "zuoOhF3nGhAd",
        "outputId": "7d9c2400-c7e3-46e9-fcfb-3af83664b9c4"
      },
      "execution_count": 108,
      "outputs": [
        {
          "output_type": "stream",
          "name": "stderr",
          "text": [
            "WARNING:rpy2.rinterface_lib.callbacks:R[write to console]: The observed effect (2.5) WOULD be tipped by 1 unmeasured confounder\n",
            "with the following specifications:\n",
            "  * estimated difference in scaled means between the unmeasured confounder\n",
            "    in the exposed population and unexposed population: 0.45\n",
            "  * estimated relationship between the unmeasured confounder and the outcome: 7.66\n",
            "\n",
            "\n",
            "\n"
          ]
        },
        {
          "output_type": "stream",
          "name": "stdout",
          "text": [
            "# A tibble: 1 × 5\n",
            "  effect_adjusted effect_observed exposure_confounder_e…¹ confounder_outcome_e…²\n",
            "            <dbl>           <dbl>                   <dbl>                  <dbl>\n",
            "1               1             2.5                    0.45                   7.66\n",
            "# ℹ abbreviated names: ¹​exposure_confounder_effect, ²​confounder_outcome_effect\n",
            "# ℹ 1 more variable: n_unmeasured_confounders <dbl>\n"
          ]
        }
      ]
    },
    {
      "cell_type": "markdown",
      "source": [
        "The above result tells us that our result would flip if we had an unmeasured confounder with the strength of $7.66$.\n",
        "\n",
        "This makes sense intuitively because based on how we defined our linear model, the unmeasured confounder that we didn't include, $w_2$ that has a strength of 10, it turns the treatment effect from $2.\\#$ to $-2$."
      ],
      "metadata": {
        "id": "OotHBUqVIbiW"
      }
    },
    {
      "cell_type": "markdown",
      "source": [
        "Also important note - the smaller the \"confounder$\\rightarrow$exposure effect\" is, the bigger the \"confounder$\\rightarrow$outcome effect\" has to be to meaningfully change your results. Therefore, if your causal question happens to involve two naturally well-balanced users, it'll take stronger confounder-outcome effects to change your results."
      ],
      "metadata": {
        "id": "0n1jLR3zLYNs"
      }
    },
    {
      "cell_type": "code",
      "source": [
        "%%R -i df\n",
        "summary(lm(y~a+w1+w2,data=df))$coef"
      ],
      "metadata": {
        "colab": {
          "base_uri": "https://localhost:8080/"
        },
        "id": "khUAQhexIEH8",
        "outputId": "03794993-2108-4522-ea60-8711f1b3f633"
      },
      "execution_count": 102,
      "outputs": [
        {
          "output_type": "stream",
          "name": "stdout",
          "text": [
            "                 Estimate  Std. Error       t value  Pr(>|t|)\n",
            "(Intercept)  1.418935e-05 0.008402274  1.688751e-03 0.9986526\n",
            "a           -1.997059e+00 0.012189995 -1.638277e+02 0.0000000\n",
            "w1           1.000714e+01 0.005904402  1.694861e+03 0.0000000\n",
            "w2           1.000184e+01 0.005922917  1.688667e+03 0.0000000\n"
          ]
        }
      ]
    },
    {
      "cell_type": "markdown",
      "source": [
        "There's more examples from McGowan here: ([GitHub link](https://github.com/r-causal/tipr)), but there's different modifications such as binary confounder, checking for multiple confounders, binary outcomes, etc."
      ],
      "metadata": {
        "id": "juwhxqX8D_T8"
      }
    },
    {
      "cell_type": "markdown",
      "source": [
        "## Cinelli and Hazlett, 2020"
      ],
      "metadata": {
        "id": "tn7I3kEjYOru"
      }
    },
    {
      "cell_type": "markdown",
      "source": [
        "Cinelli and Hazlett's paper is interesting because it's the first and (maybe only) sensitivity analysis I've encountered (*so far*) that aims to make the strength of unobserved confounding more interpretable by making it in relation to your observed confounders.\n",
        "\n",
        "Let's simulate some data again:"
      ],
      "metadata": {
        "id": "K_lzguS7YOut"
      }
    },
    {
      "cell_type": "markdown",
      "source": [
        "### simulate data"
      ],
      "metadata": {
        "id": "TfIpDbPENNzS"
      }
    },
    {
      "cell_type": "code",
      "source": [
        "# sample size\n",
        "n = 30000\n",
        "\n",
        "# define covariates\n",
        "w1 = np.random.normal(0,1,n)\n",
        "w2 = np.random.normal(0,1,n)\n",
        "\n",
        "# treatment\n",
        "a = np.random.binomial(1,expit((w1+w2)/2),n)\n",
        "\n",
        "# outcome\n",
        "e = np.random.normal(0,1,n)\n",
        "y = 2*a+2*w1+2*w2+e\n",
        "\n",
        "# put into a pandas dataframe\n",
        "d = {'y':y, 'a':a, 'w1':w1, 'w2':w2}\n",
        "df = pd.DataFrame(data=d)"
      ],
      "metadata": {
        "id": "LcQAbcCFNPkF"
      },
      "execution_count": 144,
      "outputs": []
    },
    {
      "cell_type": "markdown",
      "source": [
        "### apply sensitivity"
      ],
      "metadata": {
        "id": "amQ9jpw_NSZc"
      }
    },
    {
      "cell_type": "code",
      "source": [
        "%%R -i df\n",
        "print('y~a')\n",
        "print(summary(lm(y~a,data=df))$coef['a',])\n",
        "print('y~a+w1')\n",
        "print(summary(lm(y~a+w1,data=df))$coef['a',])"
      ],
      "metadata": {
        "colab": {
          "base_uri": "https://localhost:8080/"
        },
        "id": "Xb-in-GjMnoC",
        "outputId": "5e724874-5658-4b7a-9ef5-398b64f6b39a"
      },
      "execution_count": 148,
      "outputs": [
        {
          "output_type": "stream",
          "name": "stdout",
          "text": [
            "[1] \"y~a\"\n",
            "    Estimate   Std. Error      t value     Pr(>|t|) \n",
            "  3.83672519   0.03306696 116.02898214   0.00000000 \n",
            "[1] \"y~a+w1\"\n",
            "    Estimate   Std. Error      t value     Pr(>|t|) \n",
            "  2.95787800   0.02599144 113.80201477   0.00000000 \n"
          ]
        }
      ]
    },
    {
      "cell_type": "code",
      "source": [
        "%%R\n",
        "cinci.sensitivity <-\n",
        "sensemakr(model=lm(y~a+w1,data=df), #our lm model\n",
        "          treatment='a', #treatment\n",
        "          benchmark_covariates='w1',\n",
        "          kd=1:7,\n",
        "          ky=1:7,\n",
        "          q=1,\n",
        "          alpha=0.05,\n",
        "          reduce=TRUE)"
      ],
      "metadata": {
        "id": "7h6URvwqMx22"
      },
      "execution_count": 160,
      "outputs": []
    },
    {
      "cell_type": "code",
      "source": [
        "%%R\n",
        "plot(cinci.sensitivity)"
      ],
      "metadata": {
        "colab": {
          "base_uri": "https://localhost:8080/",
          "height": 497
        },
        "id": "DL14yZmnM-dy",
        "outputId": "d5085aaa-7509-428b-c090-b5ecf5abef04"
      },
      "execution_count": 161,
      "outputs": [
        {
          "output_type": "display_data",
          "data": {
            "image/png": "[encoded data removed]"
          },
          "metadata": {}
        }
      ]
    },
    {
      "cell_type": "markdown",
      "source": [
        "This graph says that to flip our estimate (so across the red dotted line), our confounder would need to be 6x stronger than $w_1$. Since you know a bit about $w_1$ since you observed and measured it, you can reason if it is likely that a confounder could be 6x stronger than $w_1$."
      ],
      "metadata": {
        "id": "HMbrIpyRYOx7"
      }
    },
    {
      "cell_type": "markdown",
      "source": [
        "## Conclusion and Final thoughts"
      ],
      "metadata": {
        "id": "crzQHcqOYO0O"
      }
    },
    {
      "cell_type": "markdown",
      "source": [
        "We covered a wide range of sensitivity analyses, but my focus was actually on intuition and not on breadth or depth. For both of those, reading the paper themselves would be the most beneficial. We also only covered the math (briefly) of only one of the methods, and there was a lot of content we skipped. For instance, Cinelli and Hazlett's paper contains other measures of sensitivity analysis (including a one-number-summary which they call the Robustness Value) as well as skipping some of Rosenbaum's hypothesis tests that he proposed.\n",
        "\n",
        "It's also worth pointing out that sensitivity analysis is still a developing field and there's no \"general\" method that works for all causal inference. For example, for the recent method above from Cinelli and Hazlett, there's no guidance on how they can work for matched datasets (it seems to only work for regression datasets), and how they work for generalized linear models is also unclear (e.g., logistic regression). So when I had binary outcomes, instead of using a logistic regression model (glm with logit link), I used lm(), which corresponds to a linear probability model, and it isn't clear how suitable that is for his method.\n",
        "\n",
        "Here's also a final quote from Noah Greifer to conclude the notebook:\n",
        ">I think this paper ([McGowan, 2022](https://link.springer.com/article/10.1007/s40471-022-00308-6)) does a good job of explaining the current best practices. IMO the problem hasn't been fully solved but we're moving in the right direction (i.e., toward a fully general, method-agnostic method of assessing sensitivity"
      ],
      "metadata": {
        "id": "G_Kt3qyfYO2k"
      }
    }
  ]
}